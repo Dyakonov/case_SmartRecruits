{
 "cells": [
  {
   "cell_type": "markdown",
   "metadata": {
    "collapsed": false
   },
   "source": [
    "## Формирование решения"
   ]
  },
  {
   "cell_type": "code",
   "execution_count": 7,
   "metadata": {
    "collapsed": false
   },
   "outputs": [
    {
     "name": "stdout",
     "output_type": "stream",
     "text": [
      "Populating the interactive namespace from numpy and matplotlib\n"
     ]
    }
   ],
   "source": [
    "# подгружаем все нужные пакеты\n",
    "import pandas as pd\n",
    "import numpy as np\n",
    "\n",
    "\n",
    "# для встроенных картинок\n",
    "%pylab inline\n",
    "# чуть покрасивше картинки:\n",
    "pd.set_option('display.mpl_style', 'default')\n",
    "figsize(15, 10)\n",
    "\n",
    "import warnings\n",
    "warnings.filterwarnings(\"ignore\")\n",
    "\n",
    "#plt.rcParams['figure.figsize'] = 10, 7.5\n",
    "#plt.rcParams['axes.grid'] = True\n",
    "pd.set_option('display.max_columns', None)\n",
    "import matplotlib.pyplot as plt\n",
    "\n",
    "import matplotlib as mpl\n",
    "mpl.rcParams['font.family'] = 'Ubuntu'"
   ]
  },
  {
   "cell_type": "markdown",
   "metadata": {},
   "source": [
    "## Формирование признаков"
   ]
  },
  {
   "cell_type": "code",
   "execution_count": 8,
   "metadata": {
    "collapsed": true
   },
   "outputs": [],
   "source": [
    "from sklearn.preprocessing import LabelEncoder\n",
    "\n",
    "def replace_1(x):\n",
    "    if x not in ['Graduate', 'Class XII', 'Class X',\n",
    "                 'Masters of Business Administration', 'Others', nan]:\n",
    "        return 'something'\n",
    "    return (x)\n",
    "\n",
    "\n",
    "def makematrix(train_d):\n",
    "    train_d['weekday'] = pd.to_datetime(train_d.Application_Receipt_Date).dt.dayofweek\n",
    "    train_d['month'] = pd.to_datetime(train_d.Application_Receipt_Date).dt.month\n",
    "    train_d['day'] = pd.to_datetime(train_d.Application_Receipt_Date).dt.day\n",
    "\n",
    "    train_d['weekday2'] = pd.to_datetime(train_d.Manager_DOJ).dt.dayofweek\n",
    "    train_d['month2'] = pd.to_datetime(train_d.Manager_DOJ).dt.month\n",
    "    train_d['day2'] = pd.to_datetime(train_d.Manager_DOJ).dt.day\n",
    "    \n",
    "    \n",
    "    \n",
    "    train_d['Application_Receipt_Date'] = pd.to_datetime(train_d.Application_Receipt_Date)\n",
    "    train_d['Applicant_BirthDate'] = pd.to_datetime(train_d.Applicant_BirthDate)\n",
    "    train_d['Manager_DOJ'] = pd.to_datetime(train_d.Manager_DOJ)\n",
    "    train_d['Manager_DoB'] = pd.to_datetime(train_d.Manager_DoB)\n",
    "    train_d['delta_DOB'] = train_d['Manager_DoB'] - train_d['Applicant_BirthDate']\n",
    "    train_d['delta_dates'] = train_d['Manager_DoB'] - train_d['Manager_DOJ']\n",
    "    \n",
    "    train_d['Applicant_BirthDate'] = (train_d.Applicant_BirthDate - pd.Timestamp('1930-02-28 00:00:00')).dt.total_seconds()\n",
    "    train_d['Application_Receipt_Date'] = (train_d.Application_Receipt_Date - pd.Timestamp('1930-02-28 00:00:00')).dt.total_seconds()\n",
    "    train_d['Manager_DoB'] = (train_d.Manager_DoB - pd.Timestamp('1930-02-28 00:00:00')).dt.total_seconds()\n",
    "    train_d['Manager_DOJ'] = (train_d.Manager_DOJ - pd.Timestamp('1930-02-28 00:00:00')).dt.total_seconds()\n",
    "    train_d['delta_DOB'] = train_d.delta_DOB.dt.total_seconds()\n",
    "    train_d['delta_dates'] = train_d.delta_dates.dt.total_seconds()\n",
    "#     del train_d['Application_Receipt_Date']\n",
    "#     del train_d['Applicant_BirthDate']\n",
    "#     del train_d['Manager_DOJ']\n",
    "#     del train_d['Manager_DoB']\n",
    "\n",
    "\n",
    "    # leakage\n",
    "    train_d['num_of_sale'] = np.arange(train_d.shape[0])\n",
    "    tmp = train_d['Application_Receipt_Date'].map(train_d.groupby('Application_Receipt_Date').num_of_sale.min())\n",
    "    train_d['sales_in_day'] = train_d['Application_Receipt_Date'].map(train_d.groupby('Application_Receipt_Date').num_of_sale.max()) - tmp + 1\n",
    "    train_d['num_of_sale'] = train_d['num_of_sale'] - tmp\n",
    "    train_d['invert_num_of_sale'] = train_d['sales_in_day'] - train_d['num_of_sale'] - 1\n",
    "    train_d['per_of_sale'] = train_d.num_of_sale/train_d['Application_Receipt_Date'].map(train_d.groupby('Application_Receipt_Date').num_of_sale.max())\n",
    "    train_d['per_of_sale'] = train_d['per_of_sale'].fillna(0.0)\n",
    "\n",
    "    \n",
    "    \n",
    "    \n",
    "    train_d['Manager_Joining_Designation'] = train_d['Manager_Joining_Designation'].map({nan:-1, 'Other':0, 'Level 1':1, 'Level 2':2, 'Level 3':3, 'Level 4':4, 'Level 5':5, 'Level 6':6, 'Level 7':7})\n",
    "    #del train_d['Manager_Joining_Designation']\n",
    "    # nan <-> other\n",
    "    train_d['Applicant_Marital_Status'] = train_d['Applicant_Marital_Status'].map({nan:-1, 'S':1, 'M':2, 'W':3, 'D':4})\n",
    "    \n",
    "    train_d['Applicant_Qualification'] = train_d['Applicant_Qualification'].apply(replace_1)\n",
    "    train_d['Applicant_Qualification'] = train_d['Applicant_Qualification'].map({'Graduate':4, 'Class XII':2, 'Class X':1, 'Masters of Business Administration':3, 'something':0, 'Others':5, nan:-1})\n",
    "    \n",
    "    train_d['Applicant_Occupation'] = train_d['Applicant_Occupation'].map({nan:0, 'Self Employed':1, 'Business':2, 'Salaried':3, 'Others':4, 'Student':5})\n",
    "    # nan <-> 'Self Employed'\n",
    "#     train_d['Applicant_Occupation_0'] = train_d['Applicant_Occupation']==0\n",
    "#     train_d['Applicant_Occupation_1'] = train_d['Applicant_Occupation']==1\n",
    "#     train_d['Applicant_Occupation_2'] = train_d['Applicant_Occupation']==2\n",
    "#     train_d['Applicant_Occupation_3'] = train_d['Applicant_Occupation']==3\n",
    "#     train_d['Applicant_Occupation_4'] = train_d['Applicant_Occupation']==4\n",
    "#     train_d['Applicant_Occupation_5'] = train_d['Applicant_Occupation']==5\n",
    "    \n",
    "    \n",
    "    \n",
    "    train_d['Manager_Current_Designation'] = train_d['Manager_Current_Designation'].map({nan:-1, 'Other':0, 'Level 1':1, 'Level 2':2, 'Level 3':3, 'Level 4':4, 'Level 5':5, 'Level 6':6, 'Level 7':7})\n",
    "    # 1 2 nan 3 5 4\n",
    "    \n",
    "    train_d['eq_Destinations'] = train_d['Manager_Current_Designation']==train_d['Manager_Joining_Designation'] \n",
    "    \n",
    "    train_d['Manager_Status'] = train_d['Manager_Status'].map({'Confirmation':-1, nan:0, 'Probation':1})\n",
    "    \n",
    "    #del train_d['Manager_Status'] # не играет роли!!!\n",
    "    \n",
    "    # 'Manager_Grade' (nan -> 4.5)\n",
    "    # Manager_Num_Application - не трогать\n",
    "    # Manager_Num_Coded\n",
    "    # Manager_Num_Products\n",
    "    # Manager_Num_Products2\n",
    "\n",
    "    train_d['Applicant_Gender'] = train_d['Applicant_Gender'].map({'M':1, 'F':-1, nan:0})\n",
    "    # nan <-> F!\n",
    "    train_d['Manager_Gender'] = train_d['Manager_Gender'].map({'M':1, 'F':-1, nan:0})\n",
    "    train_d['genders'] = train_d['Manager_Gender'].astype(str) + train_d['Applicant_Gender'].astype(str)\n",
    "    train_d['genders'] = train_d['genders'].map({'11':1, '-11':3, '1-1':4, '-1-1':6, '01':2, '0-1':5, '10':0, '00':0, '-10':0})\n",
    "    #del train_d['Applicant_Gender']\n",
    "    #del train_d['Manager_Gender']\n",
    "    \n",
    "    train_d['num_products'] =  train_d.Manager_Num_Products + train_d.Manager_Num_Products2\n",
    "    train_d['num_products2'] =  train_d.Manager_Num_Products - train_d.Manager_Num_Products2\n",
    "    \n",
    "    \n",
    "#     encoder = LabelEncoder()\n",
    "    \n",
    "#     for f in ['Office_PIN', 'Applicant_City_PIN','Manager_Business', 'Manager_Business2']:\n",
    "#         print (f)\n",
    "#         train_d[f].fillna(-1.1, inplace=True)\n",
    "#         encoder.fit(train_d[f])\n",
    "#         train_d[f] = encoder.transform(train_d[f])\n",
    "\n",
    "#     for f in ['Office_PIN', 'Applicant_City_PIN','Manager_Business', 'Manager_Business2']:\n",
    "#         print (f)\n",
    "#         s = train_d.groupby(f)['Applicant_Occupation_3'].mean()\n",
    "#         train_d[f + '_accup3'] = train_d[f].map(s)\n",
    "        \n",
    "        \n",
    "    for f in ['Office_PIN', 'Applicant_City_PIN','Manager_Business', 'Manager_Business2']: # , 'Applicant_City_PIN','Manager_Business', 'Manager_Business2'\n",
    "        print (f)\n",
    "        s = train_d.groupby(f).size()\n",
    "        train_d[f] = train_d[f].map(s)\n",
    "        \n",
    "    train_d.drop(['ID'], axis=1, inplace=True)\n",
    "    \n",
    "    #  'Office_PIN', 'Applicant_City_PIN','Manager_Business', 'Manager_Business2'\n",
    "    \n",
    "    return (train_d)"
   ]
  },
  {
   "cell_type": "markdown",
   "metadata": {},
   "source": [
    "## Загрузка данных"
   ]
  },
  {
   "cell_type": "code",
   "execution_count": 9,
   "metadata": {
    "collapsed": false
   },
   "outputs": [
    {
     "name": "stdout",
     "output_type": "stream",
     "text": [
      "(9527, 23) (5045, 22)\n",
      "(3945, 23)\n",
      "Office_PIN\n",
      "Applicant_City_PIN\n",
      "Manager_Business\n",
      "Manager_Business2\n"
     ]
    }
   ],
   "source": [
    "train_d = pd.read_csv('Train_pjb2QcD.csv')\n",
    "test_d = pd.read_csv('Test_wyCirpO.csv')\n",
    "print (train_d.shape, test_d.shape)\n",
    "\n",
    "ind = pd.to_datetime(train_d['Application_Receipt_Date'])>pd.Timestamp('2007-12-01')\n",
    "train_d = train_d[ind]\n",
    "print (train_d.shape)\n",
    "\n",
    "data = pd.concat([train_d, test_d])\n",
    "data = makematrix(data)\n",
    "\n",
    "m = train_d.shape[0]\n",
    "y = data.Business_Sourced.values[:m]\n",
    "data.fillna(-1.1, inplace=True)\n",
    "train = data[data.columns - ['Business_Sourced']].iloc[:m,:]\n",
    "test = data[data.columns - ['Business_Sourced']].iloc[m:,:]"
   ]
  },
  {
   "cell_type": "markdown",
   "metadata": {},
   "source": [
    "## GBM"
   ]
  },
  {
   "cell_type": "code",
   "execution_count": 11,
   "metadata": {
    "collapsed": false
   },
   "outputs": [
    {
     "data": {
      "text/html": [
       "<div>\n",
       "<table border=\"1\" class=\"dataframe\">\n",
       "  <thead>\n",
       "    <tr style=\"text-align: right;\">\n",
       "      <th></th>\n",
       "      <th>ID</th>\n",
       "      <th>Business_Sourced</th>\n",
       "    </tr>\n",
       "  </thead>\n",
       "  <tbody>\n",
       "    <tr>\n",
       "      <th>0</th>\n",
       "      <td>FIN1009528</td>\n",
       "      <td>0.914380</td>\n",
       "    </tr>\n",
       "    <tr>\n",
       "      <th>1</th>\n",
       "      <td>FIN1009529</td>\n",
       "      <td>0.914606</td>\n",
       "    </tr>\n",
       "    <tr>\n",
       "      <th>2</th>\n",
       "      <td>FIN1009530</td>\n",
       "      <td>0.826344</td>\n",
       "    </tr>\n",
       "  </tbody>\n",
       "</table>\n",
       "</div>"
      ],
      "text/plain": [
       "           ID  Business_Sourced\n",
       "0  FIN1009528          0.914380\n",
       "1  FIN1009529          0.914606\n",
       "2  FIN1009530          0.826344"
      ]
     },
     "execution_count": 11,
     "metadata": {},
     "output_type": "execute_result"
    }
   ],
   "source": [
    "from sklearn.ensemble import GradientBoostingRegressor\n",
    "#model = GradientBoostingRegressor(n_estimators=50, learning_rate=0.1, max_depth=8, random_state=0, loss='ls')\n",
    "model = GradientBoostingRegressor(n_estimators=1000, learning_rate=0.01, max_depth=1, random_state=0, loss='ls')\n",
    "\n",
    "model.fit(train, y)\n",
    "\n",
    "a = model.predict(test)\n",
    "\n",
    "a = (a-min(a))/(max(a)-min(a))\n",
    "\n",
    "df = pd.DataFrame({'ID':test_d.ID.values, 'Business_Sourced':a})\n",
    "\n",
    "df[['ID','Business_Sourced']].to_csv('dj_ans10_gbm_allf2_2007-11.csv', index=False)\n",
    "df[['ID','Business_Sourced']][:3]"
   ]
  },
  {
   "cell_type": "code",
   "execution_count": 12,
   "metadata": {
    "collapsed": false
   },
   "outputs": [
    {
     "data": {
      "text/plain": [
       "array([ 0.91437973,  0.91460588,  0.8263435 , ...,  0.0982681 ,\n",
       "        0.09497696,  0.11070545])"
      ]
     },
     "execution_count": 12,
     "metadata": {},
     "output_type": "execute_result"
    }
   ],
   "source": [
    "arf = a.copy()\n",
    "arf"
   ]
  },
  {
   "cell_type": "code",
   "execution_count": 5,
   "metadata": {
    "collapsed": false
   },
   "outputs": [
    {
     "data": {
      "text/plain": [
       "0.673494117381"
      ]
     },
     "execution_count": 5,
     "metadata": {},
     "output_type": "execute_result"
    }
   ],
   "source": [
    " 1000     0.67713298557 (*)\n",
    "    \n",
    "  \n",
    "0.673494117381\n",
    "0.652022220717\n",
    "\n",
    "0.689194499018 (кодировка по мощности)\n",
    "0.690706591694Manager_Joining_Designation\n",
    "0.689194499018Applicant_Marital_Status\n",
    "0.689223855656Applicant_Qualification\n",
    "0.568623625319Applicant_Occupation\n",
    "0.689194499018 Manager_Status\n",
    "0.687910033196 genders\n",
    "0.6772490572\n",
    "0.682138518167 new factor\n",
    "0.658463970372 Office_PIN\n",
    "0.655596052661 City_PIN\n",
    "0.649612266558 Manager_Business\n",
    "0.689194499018 allf\n",
    "0.689194499018 allf2\n",
    "\n",
    "    \n",
    "0.659535713479 -02month\n",
    "0.602871530836 -03\n",
    "0.690057584175 07-12\n",
    "0.677922904952 07-11"
   ]
  },
  {
   "cell_type": "markdown",
   "metadata": {
    "collapsed": true
   },
   "source": [
    "## Random Forest"
   ]
  },
  {
   "cell_type": "code",
   "execution_count": 13,
   "metadata": {
    "collapsed": true
   },
   "outputs": [],
   "source": [
    "from sklearn.ensemble import RandomForestRegressor\n",
    "model = RandomForestRegressor(max_features=15, n_estimators=5000,  max_depth=3)\n",
    "model.fit(train, y)\n",
    "a = model.predict(test)\n",
    "a = (a-min(a))/(max(a)-min(a))\n",
    "df = pd.DataFrame({'ID':test_d.ID.values, 'Business_Sourced':a})\n",
    "df[['ID','Business_Sourced']].to_csv('dj_rf_tmp.csv', index=False)"
   ]
  },
  {
   "cell_type": "code",
   "execution_count": 14,
   "metadata": {
    "collapsed": false
   },
   "outputs": [
    {
     "data": {
      "text/plain": [
       "array([ 0.85804784,  0.84684486,  0.80615384, ...,  0.01493235,\n",
       "        0.01329878,  0.01387397])"
      ]
     },
     "execution_count": 14,
     "metadata": {},
     "output_type": "execute_result"
    }
   ],
   "source": [
    "agbm = a.copy()\n",
    "agbm"
   ]
  },
  {
   "cell_type": "code",
   "execution_count": 15,
   "metadata": {
    "collapsed": false
   },
   "outputs": [
    {
     "ename": "SyntaxError",
     "evalue": "invalid syntax (<ipython-input-15-4776bcc0ecb9>, line 4)",
     "output_type": "error",
     "traceback": [
      "\u001b[1;36m  File \u001b[1;32m\"<ipython-input-15-4776bcc0ecb9>\"\u001b[1;36m, line \u001b[1;32m4\u001b[0m\n\u001b[1;33m    0.696580629135 (по мощности кодировка)\u001b[0m\n\u001b[1;37m                              ^\u001b[0m\n\u001b[1;31mSyntaxError\u001b[0m\u001b[1;31m:\u001b[0m invalid syntax\n"
     ]
    }
   ],
   "source": [
    "0.688187340514\n",
    "0.68812230427\n",
    "0.627019849604\n",
    "0.696580629135 (по мощности кодировка)\n",
    "0.696219316668 Manager_Joining_Designation\n",
    "0.695830905765 Applicant_Marital_Status\n",
    "0.695998916063 Applicant_Qualification\n",
    "0.55431203848  Applicant_Occupation [важный!]\n",
    "0.697021430346  Manager_Status\n",
    "0.696546304451 genders\n",
    "0.686543368787 plus\n",
    "0.693352302238 new factor\n",
    "0.644673576768 OfficePIN\n",
    "0.648233407854 City_PIN\n",
    "0.622447440327 Manager_Business\n",
    "0.696013368561 allf\n",
    "0.696925682542 (околорекордный)\n",
    "\n",
    "0.672433213649 -02 month\n",
    "0.703033669806 - 07-12\n",
    "0.694923108191 - 07-11\n"
   ]
  },
  {
   "cell_type": "markdown",
   "metadata": {
    "collapsed": false
   },
   "source": [
    "## Ансамбль"
   ]
  },
  {
   "cell_type": "code",
   "execution_count": 25,
   "metadata": {
    "collapsed": false
   },
   "outputs": [
    {
     "data": {
      "image/png": "[encoded data removed]",
      "text/plain": [
       "<matplotlib.figure.Figure at 0xb6aeb70>"
      ]
     },
     "metadata": {},
     "output_type": "display_data"
    }
   ],
   "source": [
    "#plt.plot([], figsize = (5,5))\n",
    "plt.rcParams['figure.figsize'] = 8, 8\n",
    "plt.scatter(arf, agbm, c=test.Applicant_Occupation.values)\n",
    "plt.xlabel('gbm')\n",
    "plt.ylabel('rf')\n",
    "plt.legend()"
   ]
  },
  {
   "cell_type": "code",
   "execution_count": 24,
   "metadata": {
    "collapsed": false
   },
   "outputs": [],
   "source": [
    "alpha = 0.8\n",
    "\n",
    "a = (1-alpha)*arf + alpha*agbm\n",
    "\n",
    "df = pd.DataFrame({'ID':test_d.ID.values, 'Business_Sourced':a})\n",
    "df[['ID','Business_Sourced']].to_csv('dj_ens07.csv', index=False)\n"
   ]
  },
  {
   "cell_type": "code",
   "execution_count": null,
   "metadata": {
    "collapsed": false
   },
   "outputs": [],
   "source": [
    "0.9 0.705113023056\n",
    "0.8 0.705280130072\n",
    "0.7 0.705077795091"
   ]
  },
  {
   "cell_type": "markdown",
   "metadata": {},
   "source": [
    "## + ridge"
   ]
  },
  {
   "cell_type": "code",
   "execution_count": 93,
   "metadata": {
    "collapsed": false
   },
   "outputs": [],
   "source": [
    "from sklearn.ensemble import RandomForestRegressor\n",
    "from sklearn.linear_model import LogisticRegression\n",
    "\n",
    "from sklearn.linear_model import Ridge\n",
    "\n",
    "model = Ridge(alpha=0.01, normalize=True)\n",
    "\n",
    "model.fit(train, y)\n",
    "#a = model.predict_proba(test)[:,1]\n",
    "a = model.predict(test)\n",
    "arg = (a-min(a))/(max(a)-min(a))\n",
    "#df = pd.DataFrame({'ID':test_d.ID.values, 'Business_Sourced':a})\n",
    "#df[['ID','Business_Sourced']].to_csv('dj_rg2.csv', index=False)"
   ]
  },
  {
   "cell_type": "code",
   "execution_count": null,
   "metadata": {
    "collapsed": true
   },
   "outputs": [],
   "source": [
    "0.63\n",
    "0.639944448208\n",
    "0.642610482578\n"
   ]
  },
  {
   "cell_type": "code",
   "execution_count": 97,
   "metadata": {
    "collapsed": true
   },
   "outputs": [],
   "source": [
    "alpha = 0.8\n",
    "beta = 0.95\n",
    "\n",
    "a = beta*((1-alpha)*arf + alpha*agbm) + (1-beta)*arg\n",
    "\n",
    "df = pd.DataFrame({'ID':test_d.ID.values, 'Business_Sourced':a})\n",
    "df[['ID','Business_Sourced']].to_csv('dj_ens_095.csv', index=False)\n",
    "#0.704023665967."
   ]
  },
  {
   "cell_type": "code",
   "execution_count": null,
   "metadata": {
    "collapsed": false
   },
   "outputs": [],
   "source": []
  }
 ],
 "metadata": {
  "kernelspec": {
   "display_name": "Python 3",
   "language": "python",
   "name": "python3"
  },
  "language_info": {
   "codemirror_mode": {
    "name": "ipython",
    "version": 3
   },
   "file_extension": ".py",
   "mimetype": "text/x-python",
   "name": "python",
   "nbconvert_exporter": "python",
   "pygments_lexer": "ipython3",
   "version": "3.5.1"
  }
 },
 "nbformat": 4,
 "nbformat_minor": 0
}
